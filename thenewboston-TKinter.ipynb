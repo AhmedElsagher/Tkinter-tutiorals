{
 "cells": [
  {
   "cell_type": "markdown",
   "metadata": {},
   "source": [
    "#  1 - Introduction"
   ]
  },
  {
   "cell_type": "code",
   "execution_count": null,
   "metadata": {
    "collapsed": false
   },
   "outputs": [],
   "source": [
    "from tkinter import *\n",
    "root=Tk()\n",
    "tklabel=Label(root,text=\"ahmed Elsagher\")\n",
    "tklabel.pack()\n",
    "root.mainloop()\n"
   ]
  },
  {
   "cell_type": "markdown",
   "metadata": {},
   "source": [
    "#  2 - Organizing your Layout"
   ]
  },
  {
   "cell_type": "code",
   "execution_count": null,
   "metadata": {
    "collapsed": false
   },
   "outputs": [],
   "source": [
    "from tkinter import *\n",
    "root=Tk()\n",
    "\n",
    "topFrame=Frame(root)\n",
    "topFrame.pack()\n",
    "\n",
    "botFrame=Frame(root)\n",
    "botFrame.pack(side=\"bottom\")\n",
    "\n",
    "button1=Button(topFrame,text=\"but1\",fg=\"black\")\n",
    "button2=Button(topFrame,text=\"but1\",fg=\"red\")\n",
    "button3=Button(topFrame,text=\"but1\",fg=\"yellow\")\n",
    "button4=Button(botFrame,text=\"but1\",fg=\"green\")\n",
    "button5=Button(botFrame,text=\"but1\",fg=\"blue\")\n",
    "\n",
    "button1.pack(side=\"left\")\n",
    "button2.pack(side=\"left\")\n",
    "button3.pack(side=\"left\")\n",
    "button4.pack()\n",
    "button5.pack() \n",
    "\n",
    "root.mainloop()"
   ]
  },
  {
   "cell_type": "markdown",
   "metadata": {},
   "source": [
    "# 3 - Fitting Widgets in your Layout\n"
   ]
  },
  {
   "cell_type": "code",
   "execution_count": null,
   "metadata": {
    "collapsed": false
   },
   "outputs": [],
   "source": [
    "from tkinter import * \n",
    "root=Tk()\n",
    "\n",
    "label1=Label(root,text=\"ahmed Elsagher\",bg=\"black\",fg=\"yellow\")\n",
    "label1.pack()\n",
    "\n",
    "\n",
    "label2=Label(root,text=\"ahmed Elsagher\",bg=\"black\",fg=\"yellow\")\n",
    "label2.pack( fill=X)\n",
    "\n",
    "label3=Label(root,text=\"ahmed Elsagher\",bg=\"black\",fg=\"yellow\")\n",
    "label3.pack(side=\"left\", fill=Y)\n",
    "\n",
    "root.mainloop()"
   ]
  },
  {
   "cell_type": "markdown",
   "metadata": {},
   "source": [
    "# 4 - Grid Layout"
   ]
  },
  {
   "cell_type": "code",
   "execution_count": null,
   "metadata": {
    "collapsed": false
   },
   "outputs": [],
   "source": [
    "from tkinter import * \n",
    "root=Tk()\n",
    "\n",
    "loginLabel=Label(root,text=\"User Name\")\n",
    "passLabel=Label(root,text=\"Pass\")\n",
    "\n",
    "loginEntry=Entry(root)\n",
    "passEntry=Entry(root)\n",
    "\n",
    "loginLabel.grid(row=0)\n",
    "passLabel.grid(row=1)\n",
    "\n",
    "loginEntry.grid(row=0,column=1)\n",
    "passEntry.grid(row=1,column=1)\n",
    "\n",
    "root.mainloop()"
   ]
  },
  {
   "cell_type": "markdown",
   "metadata": {},
   "source": [
    "#  5 - More on the Grid "
   ]
  },
  {
   "cell_type": "code",
   "execution_count": null,
   "metadata": {
    "collapsed": false
   },
   "outputs": [],
   "source": [
    "from tkinter import * \n",
    "root=Tk()\n",
    "\n",
    "loginLabel=Label(root,text=\"User Name\")\n",
    "passLabel=Label(root,text=\"Pass\")\n",
    "\n",
    "loginEntry=Entry(root)\n",
    "passEntry=Entry(root)\n",
    "\n",
    "loginLabel.grid(row=0,sticky=W)\n",
    "passLabel.grid(row=1,sticky=W)\n",
    "\n",
    "loginEntry.grid(row=0,column=1)\n",
    "passEntry.grid(row=1,column=1)\n",
    "\n",
    "ch1=Checkbutton(root,text=\"keep me Login\")\n",
    "ch1.grid(columnspan=2)\n",
    "root.mainloop()"
   ]
  },
  {
   "cell_type": "markdown",
   "metadata": {},
   "source": [
    "\n",
    "# 6 - Binding Functions to Layouts"
   ]
  },
  {
   "cell_type": "code",
   "execution_count": null,
   "metadata": {
    "collapsed": true
   },
   "outputs": [],
   "source": [
    "from Tkinter import *\n",
    "root=Tk()\n",
    "\n",
    "\n",
    "def print_name():\n",
    "    print \"ahmed Elsagher\"\n",
    "def printname(event):\n",
    "    print \"ahmed Elsagher\"\n",
    "but1=Button(root,text=\"print My Name\",bg=\"blue\",command=print_name)\n",
    "but2= Button(root,text=\"another methode\")\n",
    "but2.bind(\"<Button-1>\",printname)\n",
    "but1.pack()\n",
    "but2.pack()\n",
    "root.mainloop()\n"
   ]
  },
  {
   "cell_type": "markdown",
   "metadata": {},
   "source": [
    "# 7 - Mouse Click Events"
   ]
  },
  {
   "cell_type": "code",
   "execution_count": null,
   "metadata": {
    "collapsed": true
   },
   "outputs": [],
   "source": [
    "def printFirstName(event):\n",
    "    print \"ahmed\"\n",
    "    \n",
    "def printLastName(event):\n",
    "    print \"Elsagher\"\n",
    "        \n",
    "def printFullName(event):\n",
    "    print \"Elsagher\""
   ]
  },
  {
   "cell_type": "code",
   "execution_count": null,
   "metadata": {
    "collapsed": true
   },
   "outputs": [],
   "source": [
    "from Tkinter import *\n",
    "root=Tk()\n",
    "frame=Frame(root,width=200,height=200)\n",
    "frame.bind(\"<Button-1>\",printFirstName)#left\n",
    "frame.bind(\"<Button-2>\",printLastName)#middle scroll wheel\n",
    "frame.bind(\"<Button-3>\",printFullName)#right Wheel\n",
    "\n",
    "frame.pack()\n",
    "root.mainloop()"
   ]
  },
  {
   "cell_type": "markdown",
   "metadata": {},
   "source": [
    "# 8 - Using Classes"
   ]
  },
  {
   "cell_type": "code",
   "execution_count": null,
   "metadata": {
    "collapsed": false
   },
   "outputs": [],
   "source": [
    "class Tes:\n",
    "    def __init__(self,master):\n",
    "        frame1=Frame(master,bg=\"red\")\n",
    "        frame1.pack()\n",
    "        self.printButton=Button(frame1,text=\"printMessage\",command=self.printMessage)\n",
    "        self.printButton.pack(side=LEFT)\n",
    "    \n",
    "    #master.destroy is more stable than frame.quit\n",
    "        self.quitBut=Button(frame1,text=\"quit\",command=master.destroy)\n",
    "        self.quitBut.pack(side=LEFT)\n",
    "    \n",
    "    def printMessage(self):\n",
    "        print \"ahmed Elsagher\""
   ]
  },
  {
   "cell_type": "code",
   "execution_count": null,
   "metadata": {
    "collapsed": false
   },
   "outputs": [],
   "source": [
    "from Tkinter import *\n",
    "\n",
    "root=Tk()\n",
    "tes=Tes(root)\n",
    "root.mainloop()"
   ]
  },
  {
   "cell_type": "markdown",
   "metadata": {},
   "source": [
    "# 9 - Creating Drop Down "
   ]
  },
  {
   "cell_type": "code",
   "execution_count": 5,
   "metadata": {
    "collapsed": false
   },
   "outputs": [],
   "source": [
    "from Tkinter import *\n",
    "def doNothing():\n",
    "    print \"NOthing\"\n",
    "\n",
    "root=Tk()\n",
    "menu=Menu(root)\n",
    "root.config(menu=menu)\n",
    "\n",
    "\n",
    "filemenu=Menu(menu)\n",
    "menu.add_cascade(label=\"file\",menu=filemenu)\n",
    "\n",
    "filemenu.add_command(label=\"new Image\",command=doNothing)\n",
    "filemenu.add_command(label=\"new\",command=doNothing)\n",
    "\n",
    "editMenu=Menu(menu)\n",
    "menu.add_cascade(label=\"edit\",menu=editMenu)\n",
    "\n",
    "editMenu.add_command(label=\"copy\",command=doNothing)\n",
    "\n",
    "\n",
    "\n",
    "\n",
    "########### 10-toolbar\n",
    "\n",
    "\n",
    "toolbar=Frame(root,bg=\"blue\")\n",
    "\n",
    "but1=Button(toolbar,text=\"insert\",command=doNothing)\n",
    "but1.pack(side=LEFT,padx=2,pady=2)\n",
    "\n",
    "but2=Button(toolbar,text=\"paste\",command=doNothing)\n",
    "but2.pack(side=LEFT,padx=2,pady=2)\n",
    "\n",
    "toolbar.pack(side=TOP,fill=X)\n",
    "\n",
    "################ 11- status bar\n",
    "\n",
    "status=Label(root,text=\"prepar to Do nothig\",bd=1,relief=SUNKEN,anchor=W)\n",
    "status.pack(side=BOTTOM,fill=X)\n",
    "\n",
    "\n",
    "\n",
    "\n",
    "\n",
    "\n",
    "\n",
    "##################\n",
    "root.mainloop()"
   ]
  },
  {
   "cell_type": "markdown",
   "metadata": {
    "collapsed": true
   },
   "source": [
    "# 10 toolBar"
   ]
  },
  {
   "cell_type": "code",
   "execution_count": null,
   "metadata": {
    "collapsed": true
   },
   "outputs": [],
   "source": []
  }
 ],
 "metadata": {
  "kernelspec": {
   "display_name": "Python 2",
   "language": "python",
   "name": "python2"
  },
  "language_info": {
   "codemirror_mode": {
    "name": "ipython",
    "version": 2
   },
   "file_extension": ".py",
   "mimetype": "text/x-python",
   "name": "python",
   "nbconvert_exporter": "python",
   "pygments_lexer": "ipython2",
   "version": "2.7.12"
  }
 },
 "nbformat": 4,
 "nbformat_minor": 0
}
